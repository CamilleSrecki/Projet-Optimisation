{
 "cells": [
  {
   "cell_type": "markdown",
   "metadata": {},
   "source": [
    "# Optimisation PC1 :  Charge d'une flotte de véhicules électriques\n"
   ]
  },
  {
   "cell_type": "code",
   "execution_count": 1,
   "metadata": {},
   "outputs": [],
   "source": [
    "import numpy as np\n",
    "import time\n",
    "import matplotlib.pyplot as plt"
   ]
  },
  {
   "cell_type": "markdown",
   "metadata": {},
   "source": [
    "## Partie II : Etude et résolution numérique\n",
    "\n",
    "1)   On étudie le problème donné en correction dans le cas d'une seule voiture, de fonction à minimiser $f : \\omega \\longrightarrow p^T \\times \\omega $ sous les contraintes :\n",
    "\n",
    "$$c_1 : \\omega \\longrightarrow - \\omega$$\n",
    "\n",
    "$$c_2 : \\omega \\longrightarrow \\omega - \\omega_{max}$$\n",
    "\n",
    "$$c_3 : \\omega \\longrightarrow (\\Delta q - b_0 1_{[n_0,n_f]}^T \\omega) \\times (\\Delta q + b_0 1_{[n_0,n_f]}^T \\omega)$$\n",
    "\n",
    "Les contraintes $c_1$ et $c_2$  bornent $\\omega$ : $ \\omega \\in [0,\\omega_{max}]$. De plus $f$ est linéaire \n",
    "et convexe et la recherche du minimum se fait sur un fermé borné, donc le problème admet un minimum global. \n",
    "En revanche, $f$ étant linéaire donc pas $\\alpha$-convexe, on ne peut pas conclure sur l'unicité du minimum. \n",
    "Pour la recherche du min, on s'oriente donc vers un algorithme d'Uzawa. \n",
    "\n",
    "2) On cherche les ordres de grandeur. Pour commencer, nous allons échantillonner sur une journée; imaginons que nous voulons un échantillon par minute environ, nous prenons N = 1500 échantillons (les valeurs actuelles du plot sont calculées avec un échantillonages de 500 pour accélérer l'algorithme)\n",
    "\n",
    "Sur Paris, les heures creuses sont de 23h (échantillon 1437) à 7h (échantillon 438), à 0.123 euros, et les heures pleines sont à 0.1580 euros. \n",
    "\n",
    "On part sur un véhicule qui sera déposé à 19h (échantillon 1188) et récupéré à 22h (échantillon 1375), avec un SOCi de 50% et un SOCf de 70%. Comme nous avons trovué une charge maximale valant $q_{max}=520 \\times 230$ V, la capacité étant de 520 Ah, on peut donc en déduire $\\Delta Q = q_{max} \\times \\Delta SOC$ kWh\n",
    "\n",
    "Dans le cadre d'un problème de rechargement d'un seul véhicule, la puissance limite qui compte est celle supportée par la batterie soit 50 kW. Pour un problème à plusieurs véhicules, la puissance limitante est celle du réseau soit 150 kW pour une borne de rechargement rapide du protocole CHAdeMO.\n",
    "\n",
    "### Implémentation de l'algorithme d'Uzawa\n",
    "\n",
    "On considère que le lagrangien vaut :\n",
    "\n",
    "$$ \\mathcal{L}(w,\\lambda) = p^T\n",
    "\\begin{pmatrix} \n",
    "w_1 \\\\\n",
    "\\dots \\\\\n",
    "w_N\n",
    "\\end{pmatrix}\n",
    "+ \\lambda^T\n",
    "\\begin{pmatrix} \n",
    "    -\\vec{w} \\\\ \n",
    "    \\vec{w}-w_{max} \\\\\n",
    "    (\\frac{\\Delta Q}{b_0}-1^T\\vec{w})(\\frac{\\Delta Q}{b_0}+1^T\\vec{w})\n",
    "\\end{pmatrix}\n",
    "$$"
   ]
  },
  {
   "cell_type": "code",
   "execution_count": 2,
   "metadata": {},
   "outputs": [
    {
     "name": "stdout",
     "output_type": "stream",
     "text": [
      "Temps d'exécution :  5.263622999191284\n",
      "Nombre d'itérations :  1000\n",
      "39580477.297952764\n"
     ]
    }
   ],
   "source": [
    "#ta,tb,ti,tf = 438, 1437, 1188, 1499\n",
    "ta,tb,ti,tf = 140, 450, 300, 498\n",
    "pmin, pmax = 0.123, 0.158\n",
    "wmax = 50000\n",
    "#N = 1500\n",
    "N = 500\n",
    "p = np.zeros(N)\n",
    "p[0:ta] = pmin\n",
    "p[ta:tb]=pmax\n",
    "p[tb:1500] = pmin\n",
    "Id = np.zeros(N)\n",
    "Id[ti:tf] = 1\n",
    "DeltaQ = 35190\n",
    "b0 = 1/230\n",
    "w0 = np.ones(N)/DeltaQ\n",
    "\n",
    "def fun(wk):\n",
    "    return np.dot(p,wk)\n",
    "\n",
    "def c(wk):\n",
    "    res= np.zeros(2*N+1)\n",
    "    res[:N]=np.array(-wk)\n",
    "    res[N:2*N]=np.array(wk-wmax)\n",
    "    res[-1]=(DeltaQ/b0-np.dot(Id,wk))*(DeltaQ/b0+np.dot(Id,wk))\n",
    "    return res\n",
    "\n",
    "def grad_fun(wk):\n",
    "    return p\n",
    "    \n",
    "def grad_c(wk):\n",
    "    grad = np.zeros((2*N+1,N))\n",
    "    for i in range(N):\n",
    "        grad[i,i] = -1\n",
    "    for i in range(N,2*N):\n",
    "        grad[i,i-N] = 1\n",
    "    grad[2*N,:] = -2*Id*wk\n",
    "    return grad\n",
    "    \n",
    "def uzawa(fun, grad_fun, c, grad_c, w0, l=0.0001, rho=0.0001, lambda0 = np.ones(2*N+1), max_iter = 10000, epsilon = 1e-5 ):\n",
    "    debut = time.time()\n",
    "    k = 0\n",
    "    wk = w0\n",
    "    lambdak = lambda0\n",
    "    grad_lagrangien_wk = grad_fun(wk) + np.dot(lambdak,grad_c(wk))\n",
    "    while (k < max_iter) and (np.linalg.norm(wk[ti-100])>epsilon):\n",
    "        grad_lagrangien_wk = grad_fun(wk) + np.dot(lambdak,grad_c(wk))\n",
    "        pk = - grad_lagrangien_wk\n",
    "        wk = wk + l*pk\n",
    "        lambdak = np.maximum(0, lambdak + rho*c(wk))\n",
    "        k += 1\n",
    "    fin = time.time()\n",
    "    print(\"Temps d'exécution : \", fin-debut)\n",
    "    print(\"Nombre d'itérations : \", k )\n",
    "    print(b0*np.sum(wk)-DeltaQ)\n",
    "    return wk\n",
    "\n",
    "wk=uzawa(fun, grad_fun, c, grad_c, w0, max_iter = 1000)\n",
    "\n"
   ]
  },
  {
   "cell_type": "code",
   "execution_count": 3,
   "metadata": {},
   "outputs": [
    {
     "data": {
      "image/png": "[encoded data removed]",
      "text/plain": [
       "<Figure size 432x288 with 1 Axes>"
      ]
     },
     "metadata": {
      "needs_background": "light"
     },
     "output_type": "display_data"
    }
   ],
   "source": [
    "plt.plot(np.arange(N)/500*24,wk)\n",
    "plt.grid()\n",
    "plt.title(\"Puissance fournie à la voiture en fonction du temps\")\n",
    "plt.xlabel(\"Temps (h)\")\n",
    "plt.ylabel(\"Puissance (W)\")\n",
    "plt.show()"
   ]
  },
  {
   "cell_type": "markdown",
   "metadata": {},
   "source": [
    "On constate que la contrainte qui pose problème est a priori celle de la satisfaction de la demande du client puisque l'algorithme ne se limite pas en puissance consommée. La contrainte de $w_{max}$ n'est elle non plus pas respectée et celle de la positivité de $w$ ne l'est pas ponctuellement.\n",
    "\n",
    "De même, une explosion en temps est visible dès le début de l'algorithme avec le gradient du lagrangien qui atteint une valeur de l'ordre de $10^4$ dès la deuxième itération qui traduit de nouveau un problème dans la définition des contraintes.\n",
    "\n",
    "Néanmoins, l'allure de la puissance obtenue est logique vis a vis du problème. En effet, la courbe est effectivement nulle en dehors de l'intervalle de temps où la voiture est branchée à la borne et on a bien deux paliers de puissance, un plus faible à l'endroit où le prix est plus important et un palier de valeurs plus élévées où le prix de l'électricité est le plus faible.\n",
    "\n",
    "Le fait de ne pas être borné par des contraintes implique également que le maximum d'itération est systématiquement atteint puisque la fonction objectif est toujours croissante.\n",
    "\n",
    "\n",
    "## Partie III : Etude avancée\n",
    "\n",
    "On étudie le problème donné en correction dans le cas de nv véhicules, de fonction à minimiser $\\sum_{i=1}^{n_v} p^T \\times \\omega_i $ avec $\\omega_i \\in \\mathbb{R}^N, i \\in |[  1, n_v ]| $ sous les contraintes : \n",
    "\n",
    "$$c_{1,i} : \\omega_i \\longrightarrow - \\omega_i, i \\in |[ 1, n_v ]| $$\n",
    "\n",
    "$$c_{2} : \\omega_i \\longrightarrow \\sum_{i=1}^{n_v}\\omega - \\omega_{max}, , i \\in |[  1, n_v ]|$$\n",
    "\n",
    "$$c_{3,i} : \\omega_i \\longrightarrow (\\Delta q_i - b_0 1_{(n_{i,0},n_{i,f})}^T \\omega_i) \\times (\\Delta q_i + b_0 1_{(n_0,n_f)}^T \\omega_i)$$\n",
    "\n",
    "On est donc bien dans le cas où le coût se décompose en une somme de termes dépendant de variables indépendantes les unes des autres (les $\\omega_i$) : le coût est une somme de fonctions $f_i \\longrightarrow p^T \\times \\omega_i$. De plus, on peut décomposer deux des trois contraintes en une somme de contraintes dépendant de variables de décisions indépendants : pour $c_{1,i}$ et $c_{3,i}$ les termes dépendant de $\\omega_k$ sont nuls sauf pour $k=i$. En revanche, la contrainte $c_2$ pose davantage de problème car on ne peut pas le décomposer de la sorte. Si on souhaite néanmoins appliquer l'algorithme de décomposition/coordination, il faut prendre \n",
    "\n",
    "Dans le cas où on a deux véhicules :\n",
    "$$c(\\vec{w_1},\\vec{w_2}) = \n",
    "\\begin{pmatrix}\n",
    "-\\vec{w_1} \\\\\n",
    "-\\vec{w_2} \\\\\n",
    "\\vec{w_1}+\\vec{w_2}-w_{max} \\\\\n",
    "(\\frac{\\Delta Q}{b_0}-1^T\\vec{w_1})(\\frac{\\Delta Q}{b_0}+1^T\\vec{w_1}) \\\\\n",
    "(\\frac{\\Delta Q}{b_0}-1^T\\vec{w_2})(\\frac{\\Delta Q}{b_0}+1^T\\vec{w_2})\n",
    "\\end{pmatrix}\n",
    "= \\begin{pmatrix}\n",
    "-\\vec{w_1} \\\\\n",
    "0 \\\\\n",
    "\\vec{w_1} \\\\\n",
    "(\\frac{\\Delta Q}{b_0}-1^T\\vec{w_1})(\\frac{\\Delta Q}{b_0}+1^T\\vec{w_1}) \\\\\n",
    "0\n",
    "\\end{pmatrix}\n",
    "+ \n",
    "\\begin{pmatrix}\n",
    "0 \\\\\n",
    "-\\vec{w_2} \\\\\n",
    "\\vec{w_2}-w_{max} \\\\\n",
    "0 \\\\\n",
    "(\\frac{\\Delta Q}{b_0}-1^T\\vec{w_2})(\\frac{\\Delta Q}{b_0}+1^T\\vec{w_2})\n",
    "\\end{pmatrix}\n",
    "$$"
   ]
  },
  {
   "cell_type": "code",
   "execution_count": 6,
   "metadata": {},
   "outputs": [
    {
     "name": "stdout",
     "output_type": "stream",
     "text": [
      "Temps d'exécution :  0.03299522399902344\n",
      "Nombre d'itérations :  2\n",
      "-35174.80600179501\n",
      "Temps d'exécution :  83.99602580070496\n",
      "Nombre d'itérations :  10000\n",
      "22501588.117815673\n"
     ]
    },
    {
     "ename": "ValueError",
     "evalue": "The truth value of an array with more than one element is ambiguous. Use a.any() or a.all()",
     "output_type": "error",
     "traceback": [
      "\u001b[1;31m---------------------------------------------------------------------------\u001b[0m",
      "\u001b[1;31mValueError\u001b[0m                                Traceback (most recent call last)",
      "\u001b[1;32m<ipython-input-6-61046c8ff32d>\u001b[0m in \u001b[0;36m<module>\u001b[1;34m\u001b[0m\n\u001b[0;32m     57\u001b[0m     \u001b[1;32mreturn\u001b[0m \u001b[0mwk1\u001b[0m\u001b[1;33m,\u001b[0m\u001b[0mwk2\u001b[0m\u001b[1;33m\u001b[0m\u001b[1;33m\u001b[0m\u001b[0m\n\u001b[0;32m     58\u001b[0m \u001b[1;33m\u001b[0m\u001b[0m\n\u001b[1;32m---> 59\u001b[1;33m \u001b[0mwsol\u001b[0m \u001b[1;33m=\u001b[0m \u001b[0mdecomposition_coordination\u001b[0m\u001b[1;33m(\u001b[0m\u001b[0mfun\u001b[0m\u001b[1;33m,\u001b[0m \u001b[0mgrad_fun\u001b[0m\u001b[1;33m,\u001b[0m \u001b[0mc1\u001b[0m\u001b[1;33m,\u001b[0m \u001b[0mgrad_c1\u001b[0m\u001b[1;33m,\u001b[0m \u001b[0mc2\u001b[0m\u001b[1;33m,\u001b[0m \u001b[0mgrad_c2\u001b[0m\u001b[1;33m,\u001b[0m \u001b[0mw0\u001b[0m\u001b[1;33m)\u001b[0m\u001b[1;33m\u001b[0m\u001b[1;33m\u001b[0m\u001b[0m\n\u001b[0m\u001b[0;32m     60\u001b[0m \u001b[1;33m\u001b[0m\u001b[0m\n\u001b[0;32m     61\u001b[0m \u001b[0mplt\u001b[0m\u001b[1;33m.\u001b[0m\u001b[0mplot\u001b[0m\u001b[1;33m(\u001b[0m\u001b[0mnp\u001b[0m\u001b[1;33m.\u001b[0m\u001b[0marange\u001b[0m\u001b[1;33m(\u001b[0m\u001b[0mN\u001b[0m\u001b[1;33m)\u001b[0m\u001b[1;33m/\u001b[0m\u001b[1;36m500\u001b[0m\u001b[1;33m*\u001b[0m\u001b[1;36m24\u001b[0m\u001b[1;33m,\u001b[0m \u001b[0mwsol\u001b[0m\u001b[1;33m[\u001b[0m\u001b[1;36m0\u001b[0m\u001b[1;33m]\u001b[0m\u001b[1;33m,\u001b[0m \u001b[0mlabel\u001b[0m\u001b[1;33m=\u001b[0m\u001b[1;34m'Voiture 1'\u001b[0m\u001b[1;33m)\u001b[0m\u001b[1;33m\u001b[0m\u001b[1;33m\u001b[0m\u001b[0m\n",
      "\u001b[1;32m<ipython-input-6-61046c8ff32d>\u001b[0m in \u001b[0;36mdecomposition_coordination\u001b[1;34m(fun, grad_fun, c1, grad_c1, c2, grad_c2, w0, l, rho, lambda0, max_iter, epsilon)\u001b[0m\n\u001b[0;32m     45\u001b[0m     \u001b[0mwk1\u001b[0m \u001b[1;33m=\u001b[0m \u001b[0muzawa\u001b[0m\u001b[1;33m(\u001b[0m\u001b[0mfun\u001b[0m\u001b[1;33m,\u001b[0m \u001b[0mgrad_fun\u001b[0m\u001b[1;33m,\u001b[0m \u001b[0mc1\u001b[0m\u001b[1;33m,\u001b[0m \u001b[0mgrad_c1\u001b[0m\u001b[1;33m,\u001b[0m \u001b[0mw0\u001b[0m\u001b[1;33m,\u001b[0m \u001b[0mlambda0\u001b[0m \u001b[1;33m=\u001b[0m \u001b[0mnp\u001b[0m\u001b[1;33m.\u001b[0m\u001b[0mones\u001b[0m\u001b[1;33m(\u001b[0m\u001b[1;36m3\u001b[0m\u001b[1;33m*\u001b[0m\u001b[0mN\u001b[0m\u001b[1;33m+\u001b[0m\u001b[1;36m2\u001b[0m\u001b[1;33m)\u001b[0m\u001b[1;33m)\u001b[0m\u001b[1;33m\u001b[0m\u001b[1;33m\u001b[0m\u001b[0m\n\u001b[0;32m     46\u001b[0m     \u001b[0mwk2\u001b[0m \u001b[1;33m=\u001b[0m \u001b[0muzawa\u001b[0m\u001b[1;33m(\u001b[0m\u001b[0mfun\u001b[0m\u001b[1;33m,\u001b[0m \u001b[0mgrad_fun\u001b[0m\u001b[1;33m,\u001b[0m \u001b[0mc2\u001b[0m\u001b[1;33m,\u001b[0m \u001b[0mgrad_c2\u001b[0m\u001b[1;33m,\u001b[0m \u001b[0mw0\u001b[0m\u001b[1;33m,\u001b[0m \u001b[0mlambda0\u001b[0m \u001b[1;33m=\u001b[0m \u001b[0mnp\u001b[0m\u001b[1;33m.\u001b[0m\u001b[0mones\u001b[0m\u001b[1;33m(\u001b[0m\u001b[1;36m3\u001b[0m\u001b[1;33m*\u001b[0m\u001b[0mN\u001b[0m\u001b[1;33m+\u001b[0m\u001b[1;36m2\u001b[0m\u001b[1;33m)\u001b[0m\u001b[1;33m)\u001b[0m\u001b[1;33m\u001b[0m\u001b[1;33m\u001b[0m\u001b[0m\n\u001b[1;32m---> 47\u001b[1;33m     \u001b[0mlambdak1\u001b[0m \u001b[1;33m=\u001b[0m \u001b[0mmax\u001b[0m\u001b[1;33m(\u001b[0m\u001b[1;36m0\u001b[0m\u001b[1;33m,\u001b[0m \u001b[0mlambdak\u001b[0m \u001b[1;33m+\u001b[0m \u001b[0mrho\u001b[0m\u001b[1;33m*\u001b[0m\u001b[1;33m(\u001b[0m\u001b[0mc1\u001b[0m\u001b[1;33m(\u001b[0m\u001b[0mwk1\u001b[0m\u001b[1;33m)\u001b[0m\u001b[1;33m)\u001b[0m \u001b[1;33m+\u001b[0m \u001b[0mc2\u001b[0m\u001b[1;33m(\u001b[0m\u001b[0mwk2\u001b[0m\u001b[1;33m)\u001b[0m\u001b[1;33m)\u001b[0m\u001b[1;33m\u001b[0m\u001b[1;33m\u001b[0m\u001b[0m\n\u001b[0m\u001b[0;32m     48\u001b[0m     \u001b[1;32mwhile\u001b[0m \u001b[1;33m(\u001b[0m\u001b[0mk\u001b[0m \u001b[1;33m<\u001b[0m \u001b[0mmax_iter\u001b[0m\u001b[1;33m)\u001b[0m \u001b[1;32mand\u001b[0m \u001b[1;33m(\u001b[0m\u001b[0mnp\u001b[0m\u001b[1;33m.\u001b[0m\u001b[0mlinalg\u001b[0m\u001b[1;33m.\u001b[0m\u001b[0mnorm\u001b[0m\u001b[1;33m(\u001b[0m\u001b[0mlambdak1\u001b[0m\u001b[1;33m-\u001b[0m\u001b[0mlambdak\u001b[0m\u001b[1;33m)\u001b[0m\u001b[1;33m>\u001b[0m\u001b[0mepsilon\u001b[0m\u001b[1;33m)\u001b[0m\u001b[1;33m:\u001b[0m\u001b[1;33m\u001b[0m\u001b[1;33m\u001b[0m\u001b[0m\n\u001b[0;32m     49\u001b[0m         \u001b[0mlambdak\u001b[0m\u001b[1;33m=\u001b[0m\u001b[0mlambdak1\u001b[0m\u001b[1;33m\u001b[0m\u001b[1;33m\u001b[0m\u001b[0m\n",
      "\u001b[1;31mValueError\u001b[0m: The truth value of an array with more than one element is ambiguous. Use a.any() or a.all()"
     ]
    }
   ],
   "source": [
    "   ti1,tf1, ti2, tf2 = 300, 498, 100,310\n",
    "Id1 , Id2= np.zeros(N), np.zeros(N)\n",
    "Id1[ti1:tf1] = 1\n",
    "Id2[ti2:tf2] = 1\n",
    "\n",
    "def c1(wk):\n",
    "    res= np.zeros(3*N + 2)\n",
    "    res[:N]=np.array(-wk)\n",
    "    res[2*N:3*N]=np.array(wk)\n",
    "    res[-2]=(DeltaQ/b0-np.dot(Id1,wk))*(DeltaQ/b0+np.dot(Id1,wk))\n",
    "    return res\n",
    "\n",
    "def grad_c1(wk):\n",
    "    grad = np.zeros((3*N+2,N))\n",
    "    for i in range(N):\n",
    "        grad[i,i] = -1\n",
    "    for i in range(2*N,3*N):\n",
    "        grad[i,i-2*N] = 1\n",
    "    grad[3*N,:] = -2*Id1*wk\n",
    "    return grad\n",
    "\n",
    "def c2(wk):\n",
    "    res= np.zeros(3*N+2)\n",
    "    res[N:2*N]=np.array(-wk)\n",
    "    res[2*N:3*N]=np.array(wk-wmax)\n",
    "    res[-1]=(DeltaQ/b0-np.dot(Id2,wk))*(DeltaQ/b0+np.dot(Id2,wk))\n",
    "    return res\n",
    "\n",
    "def grad_c2(wk):\n",
    "    grad = np.zeros((3*N + 2,N))\n",
    "    for i in range(N,2*N):\n",
    "        grad[i,i-N] = -1\n",
    "    for i in range(2*N,3*N):\n",
    "        grad[i,i-2*N] = 1\n",
    "    grad[3*N + 1,:] = -2*Id2*wk\n",
    "    return grad\n",
    "    \n",
    "\n",
    "def decomposition_coordination(fun, grad_fun, c1, grad_c1, c2, grad_c2, w0, \n",
    "                               l=0.0001, rho=0.0001, lambda0=np.ones(3*N +2), max_iter=1000, epsilon=1e-8):\n",
    "    debut = time.time()\n",
    "    k = 0\n",
    "    wk = w0\n",
    "    lambdak = lambda0\n",
    "    wk1 = uzawa(fun, grad_fun, c1, grad_c1, w0, lambda0 = np.ones(3*N+2))\n",
    "    wk2 = uzawa(fun, grad_fun, c2, grad_c2, w0, lambda0 = np.ones(3*N+2))\n",
    "    lambdak1 = max(0, lambdak + rho*(c1(wk1)) + c2(wk2))\n",
    "    while (k < max_iter) and (np.linalg.norm(lambdak1-lambdak)>epsilon):\n",
    "        lambdak=lambdak1\n",
    "        wk1 = np.array(uzawa(fun, grad_fun, c1, grad_c1, w0, lambda0 = lambdak))\n",
    "        wk2 = np.array(uzawa(fun, grad_fun, c2, grad_c2, w0, lambda0 = lambdak))\n",
    "        lambdak1= max(0, lambdak + rho*(c1(wk1)) + c2(wk2))\n",
    "        k+=1\n",
    "    fin = time.time()\n",
    "    print(\"Temps d'exécution : \", fin-debut)\n",
    "    print(\"Nombre d'itérations : \", k )\n",
    "    return wk1,wk2\n",
    "\n",
    "wsol = decomposition_coordination(fun, grad_fun, c1, grad_c1, c2, grad_c2, w0)\n",
    "\n",
    "plt.plot(np.arange(N)/500*24, wsol[0], label='Voiture 1')\n",
    "plt.plot(np.arange(N)/500*24, wsol[1], label='Voiture 2')\n",
    "plt.title(\"Puissance fournie à chacune des voitures en fonction du temps\")\n",
    "plt.xlabel(\"Temps (h)\")\n",
    "plt.ylabel(\"Puissance (W)\")\n",
    "plt.legend()\n",
    "plt.show()\n",
    "        "
   ]
  },
  {
   "cell_type": "markdown",
   "metadata": {},
   "source": [
    "Il y a une erreur dans l'algorithme qui provient peut-être des défaillances de la partie précédente."
   ]
  }
 ],
 "metadata": {
  "kernelspec": {
   "display_name": "Python 3",
   "language": "python",
   "name": "python3"
  },
  "language_info": {
   "codemirror_mode": {
    "name": "ipython",
    "version": 3
   },
   "file_extension": ".py",
   "mimetype": "text/x-python",
   "name": "python",
   "nbconvert_exporter": "python",
   "pygments_lexer": "ipython3",
   "version": "3.7.6"
  }
 },
 "nbformat": 4,
 "nbformat_minor": 4
}
