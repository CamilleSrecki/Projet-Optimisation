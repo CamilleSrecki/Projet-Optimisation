{
 "cells": [
  {
   "cell_type": "markdown",
   "metadata": {},
   "source": [
    "# Optimisation PC1 :  Charge d'une flotte de véhicules électriques\n"
   ]
  },
  {
   "cell_type": "code",
   "execution_count": 1,
   "metadata": {},
   "outputs": [],
   "source": [
    "import numpy as np\n",
    "import time"
   ]
  },
  {
   "cell_type": "markdown",
   "metadata": {},
   "source": [
    "## Partie II : Etude et résolution numérique\n",
    "\n",
    "1)   On étudie le problème donné en correction dans le cas d'une seule voiture, de fonction à minimiser $f : \\omega \\longrightarrow p^T \\times \\omega $ sous les contraintes :\n",
    "\n",
    "$$c_1 : \\omega \\longrightarrow - \\omega$$\n",
    "\n",
    "$$c_2 : \\omega \\longrightarrow \\omega - \\omega_{max}$$\n",
    "\n",
    "$$c_3 : \\omega \\longrightarrow (\\Delta q - b_0 1_{[n_0,n_f]}^T \\omega) \\times (\\Delta q + b_0 1_{[n_0,n_f]}^T \\omega)$$\n",
    "\n",
    "Les contraintes $c_1$ et $c_2$  bornent $\\omega$ : $ \\omega \\in [0,\\omega_{max}]$. De plus $f$ est linéaire \n",
    "et convexe et la recherche du minimum se fait sur un fermé borné, donc le problème admet un minimum global. \n",
    "En revanche, $f$ étant linéaire donc pas $\\alpha$-convexe, on ne peut pas conclure sur l'unicité du minimum. \n",
    "Pour la recherche du min, on s'oriente donc vers un algorithme d'Uzawa. \n",
    "\n",
    "2) On cherche les ordres de grandeur. Pour commencer, nous allons échantillonner sur une journée; imaginons que nous voulons un échantillon par minute environ, nous prenons N = 1500 échantillons.  \n"
    "Sur Paris, les heures creuses sont de 23h (échantillon 1437) à 7h (échantillon 438), à 0.123 euros, et les heures pleines sont à 0.1580 euros. \n"
    "On part sur un véhicule qui sera déposé à 19h (échantillon 1188) et récupéré à 22h (échantillon 1375), avec un SOCi de 50% et un SOCf de 70%. On peut donc en déduire $\\dela q = $
    Implémentation de l'algorithme d'Uzawa\n",
    "\n",
    "Le gradient est :\n",
    "\n",
    "$$ $$"
   ]
  },
  {
   "cell_type": "code",
   "execution_count": null,
   "metadata": {},
   "outputs": [],
   "source": [
    "ta,tb,ti,tf = 438,1437,1188,1375 \n",
    "pmin, pmax = 0.123,0.158 \n",
    "N = 1500 \n",
    "lambda_k = np.ones(4)\n",
    "wk0 = np.zeros(0)\n",
    "w_max = 50 000 \n",
    "p = np.zeros(N)\n",
    "p[0:ta] = pmin\n",
    "p[tb:1500] = pmax\n",
    "Id = np.zeros(N)\n",
    "Id[ti:tf] = 1\n",
    "\n",
    "def fun(wk):\n",
    "    return np.dot(p.T,wk)\n",
    "\n",
    "def c(wk):\n",
    "    return np.array(-wk,wk-w_max,(DeltaQ/b0-Id*wk)*(DeltaQ/b0+Id*wk))\n",
    "\n",
    "def grad_fun(wk):\n",
    "    return p/max(p)*wk\n",
    "    \n",
    "def grad_c(wk):\n",
    "    return np.array(-np.ones(wk.size),np.ones(wk.size),-2*Id*wk)\n",
    "    \n",
    "def uzawa(fun, grad_fun, c, grad_c, w0, l, rho, lambda0 = np.ones(3), max_iter = 10000, epsilon = 1e-8 ):\n",
    "    debut = time.time()\n",
    "    k = 0\n",
    "    wk = w0\n",
    "    lambdak = lambda0\n",
    "    grad_lagrangien_wk = grad_fun(wk) + np.dot(lambdak,grad_c(wk))\n",
    "    while (k < max_iter) and (np.linalg.norm(grad_lagrangien_wk)>epsilon):\n",
    "        grad_lagrangien_wk = grad_fun(wk) + np.dot(lambdak,grad_c(wk))\n",
    "        pk = - grad_lagrangien_wk\n",
    "        wk = wk + l*pk\n",
    "        lambdak = np.maximum(0, lambdak + rho*c(wk))\n",
    "        k += 1\n",
    "    fin = time.time()\n",
    "    print(\"Temps d'exécution : \", fin-debut)\n",
    "    print(\"Nombre d'itérations : \", k )\n",
    "    return xk\n"
   ]
  },
  {
   "cell_type": "code",
   "execution_count": 2,
   "metadata": {},
   "outputs": [],
   "source": [
    "   \n",
    "def decomposition_coordination(fun, grad_fun, c, grad_c, w0, l, rho, lambda0=np.ones(3), max_iter=10000, epsilon=1e-8):\n",
    "    debut = time.time()\n",
    "    k = 0\n",
    "    wk = w0\n",
    "    lambdak = lambda0\n",
    "    ...\n",
    "    while (k < max_iter) and (np.linalg.norm(grad_lagrangien_wk)>epsilon):\n",
    "        # décomposition\n",
    "        xk = \n",
    "        #là il faut s'arranger pour que ça prenne le minimum par ligne ou colonne sans faire de boucle qu'on risque \n",
    "        # de payer cher dans la complexité de l'algo. Sinon si je comprends bien c'est exactement comme Uzawa ?\n",
    "        # coordination\n",
    "        lambdak = \n",
    "        k+=1\n",
    "    fin = time.time()\n",
    "    print(\"Temps d'exécution : \", fin-debut)\n",
    "    print(\"Nombre d'itérations : \", k )\n",
    "    return xk\n",
    "        \n",
    "    "
   ]
  }
 ],
 "metadata": {
  "kernelspec": {
   "display_name": "Python 3",
   "language": "python",
   "name": "python3"
  },
  "language_info": {
   "codemirror_mode": {
    "name": "ipython",
    "version": 3
   },
   "file_extension": ".py",
   "mimetype": "text/x-python",
   "name": "python",
   "nbconvert_exporter": "python",
   "pygments_lexer": "ipython3",
   "version": "3.7.6"
  }
 },
 "nbformat": 4,
 "nbformat_minor": 4
}
